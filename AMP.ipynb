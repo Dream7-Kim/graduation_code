{
 "cells": [
  {
   "cell_type": "code",
   "execution_count": 1,
   "metadata": {},
   "outputs": [],
   "source": [
    "import numpy as onp\n",
    "import jax.numpy as np\n",
    "from jax import vmap\n",
    "from functools import partial\n",
    "import time\n",
    "from jax import jit\n",
    "from jax import grad\n",
    "import os\n",
    "from jax.config import config\n",
    "import dplex\n",
    "\n",
    "config.update(\"jax_enable_x64\", True)\n",
    "# os.environ[\"CUDA_VISIBLE_DEVICES\"] = \"1\""
   ]
  },
  {
   "cell_type": "code",
   "execution_count": 2,
   "metadata": {},
   "outputs": [
    {
     "ename": "FileNotFoundError",
     "evalue": "[Errno 2] No such file or directory: 'data/data_phif.npz'",
     "output_type": "error",
     "traceback": [
      "\u001b[0;31m---------------------------------------------------------------------------\u001b[0m",
      "\u001b[0;31mFileNotFoundError\u001b[0m                         Traceback (most recent call last)",
      "\u001b[0;32m<ipython-input-2-1e94296a1166>\u001b[0m in \u001b[0;36m<module>\u001b[0;34m\u001b[0m\n\u001b[0;32m----> 1\u001b[0;31m \u001b[0mphif\u001b[0m \u001b[0;34m=\u001b[0m \u001b[0monp\u001b[0m\u001b[0;34m.\u001b[0m\u001b[0mload\u001b[0m\u001b[0;34m(\u001b[0m\u001b[0;34m\"data/data_phif.npz\"\u001b[0m\u001b[0;34m)\u001b[0m\u001b[0;34m\u001b[0m\u001b[0;34m\u001b[0m\u001b[0m\n\u001b[0m\u001b[1;32m      2\u001b[0m \u001b[0mamp\u001b[0m \u001b[0;34m=\u001b[0m \u001b[0monp\u001b[0m\u001b[0;34m.\u001b[0m\u001b[0mload\u001b[0m\u001b[0;34m(\u001b[0m\u001b[0;34m\"data/data_amp.npz\"\u001b[0m\u001b[0;34m)\u001b[0m\u001b[0;34m\u001b[0m\u001b[0;34m\u001b[0m\u001b[0m\n\u001b[1;32m      3\u001b[0m \u001b[0;34m\u001b[0m\u001b[0m\n\u001b[1;32m      4\u001b[0m \u001b[0mphif243\u001b[0m \u001b[0;34m=\u001b[0m \u001b[0mphif\u001b[0m\u001b[0;34m[\u001b[0m\u001b[0;34m'phif243'\u001b[0m\u001b[0;34m]\u001b[0m\u001b[0;34m[\u001b[0m\u001b[0;34m:\u001b[0m\u001b[0;34m,\u001b[0m\u001b[0;36m0\u001b[0m\u001b[0;34m:\u001b[0m\u001b[0;36m2\u001b[0m\u001b[0;34m]\u001b[0m\u001b[0;34m\u001b[0m\u001b[0;34m\u001b[0m\u001b[0m\n\u001b[1;32m      5\u001b[0m \u001b[0mphif223\u001b[0m \u001b[0;34m=\u001b[0m \u001b[0mamp\u001b[0m\u001b[0;34m[\u001b[0m\u001b[0;34m'phif223'\u001b[0m\u001b[0;34m]\u001b[0m\u001b[0;34m[\u001b[0m\u001b[0;34m:\u001b[0m\u001b[0;34m,\u001b[0m\u001b[0;36m0\u001b[0m\u001b[0;34m:\u001b[0m\u001b[0;36m2\u001b[0m\u001b[0;34m]\u001b[0m\u001b[0;34m\u001b[0m\u001b[0;34m\u001b[0m\u001b[0m\n",
      "\u001b[0;32m/usr/local/lib/python3.6/dist-packages/numpy/lib/npyio.py\u001b[0m in \u001b[0;36mload\u001b[0;34m(file, mmap_mode, allow_pickle, fix_imports, encoding)\u001b[0m\n\u001b[1;32m    426\u001b[0m         \u001b[0mown_fid\u001b[0m \u001b[0;34m=\u001b[0m \u001b[0;32mFalse\u001b[0m\u001b[0;34m\u001b[0m\u001b[0;34m\u001b[0m\u001b[0m\n\u001b[1;32m    427\u001b[0m     \u001b[0;32melse\u001b[0m\u001b[0;34m:\u001b[0m\u001b[0;34m\u001b[0m\u001b[0;34m\u001b[0m\u001b[0m\n\u001b[0;32m--> 428\u001b[0;31m         \u001b[0mfid\u001b[0m \u001b[0;34m=\u001b[0m \u001b[0mopen\u001b[0m\u001b[0;34m(\u001b[0m\u001b[0mos_fspath\u001b[0m\u001b[0;34m(\u001b[0m\u001b[0mfile\u001b[0m\u001b[0;34m)\u001b[0m\u001b[0;34m,\u001b[0m \u001b[0;34m\"rb\"\u001b[0m\u001b[0;34m)\u001b[0m\u001b[0;34m\u001b[0m\u001b[0;34m\u001b[0m\u001b[0m\n\u001b[0m\u001b[1;32m    429\u001b[0m         \u001b[0mown_fid\u001b[0m \u001b[0;34m=\u001b[0m \u001b[0;32mTrue\u001b[0m\u001b[0;34m\u001b[0m\u001b[0;34m\u001b[0m\u001b[0m\n\u001b[1;32m    430\u001b[0m \u001b[0;34m\u001b[0m\u001b[0m\n",
      "\u001b[0;31mFileNotFoundError\u001b[0m: [Errno 2] No such file or directory: 'data/data_phif.npz'"
     ]
    }
   ],
   "source": [
    "phif = onp.load(\"data/data_phif.npz\")\n",
    "amp = onp.load(\"data/data_amp.npz\")\n",
    "\n",
    "phif243 = phif['phif243'][:,0:2]\n",
    "phif223 = amp['phif223'][:,0:2]\n",
    "phif222 = amp['phif222'][:,0:2]\n",
    "phif221 = amp['phif221'][:,0:2]\n",
    "data_phif2 = np.asarray([phif221,phif222,phif223,phif243])\n",
    "\n",
    "phif001 = amp['phif001'][:,0:2]\n",
    "phif021 = amp['phif021'][:,0:2]\n",
    "data_phif0 = np.asarray([phif001,phif021])\n",
    "\n",
    "mom = onp.load(\"data/data_mom.npz\")\n",
    "Kp = mom['Kp']\n",
    "Km = mom['Km']\n",
    "Pip = mom['Pip']\n",
    "Pim = mom['Pim']\n",
    "\n",
    "data_f = Pip + Pim\n",
    "data_phi = Kp + Km\n",
    "\n",
    "data_f = Pip + Pim\n",
    "data_phi = Kp + Km"
   ]
  },
  {
   "cell_type": "code",
   "execution_count": null,
   "metadata": {},
   "outputs": [],
   "source": [
    "def invm_plus(Pb,Pc):\n",
    "    Pbc = Pb + Pc\n",
    "    _Pbc = Pbc * np.array([-1,-1,-1,1])\n",
    "    return np.sum(Pbc * _Pbc,axis=1)\n",
    "\n",
    "def invm(Pbc):\n",
    "    _Pbc = Pbc * np.array([-1,-1,-1,1])\n",
    "    return np.sum(Pbc * _Pbc,axis=1)\n",
    "\n",
    "def _BW(m_,w_,Sbc):\n",
    "    gamma=np.sqrt(m_*m_*(m_*m_+w_*w_))\n",
    "    k = np.sqrt(2*np.sqrt(2)*m_*np.abs(w_)*gamma/np.pi/np.sqrt(m_*m_+gamma))\n",
    "    l = Sbc.shape[0]\n",
    "    temp = dplex.dconstruct(m_*m_ - Sbc,  -m_*w_*np.ones(l))\n",
    "    return dplex.ddivide(k, temp)\n",
    "\n",
    "def _phase(_theta, _rho):\n",
    "    return dplex.dconstruct(_rho * np.cos(_theta), _rho * np.sin(_theta))\n",
    "\n",
    "def BW(phim,phiw,fm,fw,phi,f):\n",
    "    a = np.moveaxis(vmap(partial(_BW,Sbc=phi))(phim,phiw),1,0)\n",
    "    b = np.moveaxis(vmap(partial(_BW,Sbc=f))(fm,fw),1,0)\n",
    "    result = dplex.deinsum('ij,ij->ij',a,b)\n",
    "    return result\n",
    "\n",
    "def phase(_theta,_rho):\n",
    "    result = vmap(_phase)(_theta,_rho)\n",
    "    return result\n",
    "\n",
    "def MOD(phim,phiw,fm,fw,const,theta,rho,phif,phi,f):\n",
    "    ph = np.moveaxis(phase(theta,rho), 1, 0)\n",
    "    bw = BW(phim,phiw,fm,fw,phi,f)\n",
    "    _phif = dplex.dtomine(np.einsum('ijk,il->ljk',phif,const))\n",
    "    _phif = dplex.deinsum('ijk,i->ijk',_phif,ph)\n",
    "    _phif = dplex.deinsum('ijk,ij->jk',_phif,bw)\n",
    "    return _phif\n",
    "\n",
    "def alladd(*mods):\n",
    "    l = (mods[0].shape)[1]\n",
    "    sum = onp.zeros(l*2*2).reshape(2,l,2)\n",
    "    for num in mods:\n",
    "        sum += num\n",
    "    print(sum.shape)\n",
    "    return np.sum(dplex.dabs(sum),axis=1)\n",
    "\n"
   ]
  },
  {
   "cell_type": "code",
   "execution_count": null,
   "metadata": {},
   "outputs": [],
   "source": [
    "def likelyhood(phim,phiw,f0m,f0w,f2m,f2w,const1,const2,rho,theta,_data_phif0,_data_phif2,_mc_phif0,_mc_phif2,_data_phi,_data_f,_mc_phi,_mc_f):\n",
    "    d_phif0 = MOD(phim,phiw,f0m,f0w,const1,theta,rho,_data_phif0,_data_phi,_data_f)\n",
    "    d_phif2 = MOD(phim,phiw,f2m,f2w,const2,theta,rho,_data_phif2,_data_phi,_data_f)\n",
    "    m_phif0 = MOD(phim,phiw,f0m,f0w,const1,theta,rho,_mc_phif0,_mc_phi,_mc_f)\n",
    "    m_phif2 = MOD(phim,phiw,f2m,f2w,const2,theta,rho,_mc_phif2,_mc_phi,_mc_f)\n",
    "    d_tmp = np.sum(dplex.dabs(d_phif0+d_phif2),axis=1)\n",
    "    print(d_tmp.shape)\n",
    "    d_tmp = -np.sum(np.log(d_tmp))\n",
    "    print(d_tmp)\n",
    "    return 0"
   ]
  },
  {
   "cell_type": "code",
   "execution_count": null,
   "metadata": {},
   "outputs": [],
   "source": [
    "phim = np.array([2.,1.,1.,1.])\n",
    "phiw = np.array([1.,2.,1.,1.])\n",
    "f0m = np.array([1.,1.,1.,3.])\n",
    "f0w = np.array([1.,1.,1.,1.])\n",
    "f2m = np.array([1.,1.,1.,3.])\n",
    "f2w = np.array([1.,1.,1.,1.])\n",
    "const1 = np.array([[2.,1.,1.,1.],[1.,1.,1.,1.]])\n",
    "const2 = np.array([[2.,1.,1.,1.],[1.,1.,1.,1.],[2.,1.,1.,1.],[1.,1.,1.,1.]])\n",
    "rho = np.array([1.,1.,1.,1.])\n",
    "theta = np.array([1.,1.,1.,1.])\n",
    "\n",
    "data_phi = invm(data_phi)\n",
    "data_f = invm(data_f)\n",
    "mc_phi = invm(mc_phi)\n",
    "mc_f = invm(mc_f)\n",
    "\n",
    "print(data_phif2.shape)\n",
    "likelyhood(phim,phiw,f0m,f0w,f2m,f2w,const1,const2,rho,theta,data_phif0,data_phif2,mc_phif0,mc_phif2,data_phi,data_f,mc_phi,mc_f)"
   ]
  }
 ],
 "metadata": {
  "kernelspec": {
   "display_name": "Python 3",
   "language": "python",
   "name": "python3"
  },
  "language_info": {
   "codemirror_mode": {
    "name": "ipython",
    "version": 3
   },
   "file_extension": ".py",
   "mimetype": "text/x-python",
   "name": "python",
   "nbconvert_exporter": "python",
   "pygments_lexer": "ipython3",
   "version": "3.6.9"
  }
 },
 "nbformat": 4,
 "nbformat_minor": 2
}
